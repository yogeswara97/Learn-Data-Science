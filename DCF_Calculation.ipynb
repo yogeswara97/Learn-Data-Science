{
  "nbformat": 4,
  "nbformat_minor": 0,
  "metadata": {
    "colab": {
      "provenance": [],
      "authorship_tag": "ABX9TyMo8qouvhCBi/WEPGjvyKgH",
      "include_colab_link": true
    },
    "kernelspec": {
      "name": "python3",
      "display_name": "Python 3"
    },
    "language_info": {
      "name": "python"
    }
  },
  "cells": [
    {
      "cell_type": "markdown",
      "metadata": {
        "id": "view-in-github",
        "colab_type": "text"
      },
      "source": [
        "<a href=\"https://colab.research.google.com/github/yogeswara97/Learn-Data-Science/blob/main/DCF_Calculation.ipynb\" target=\"_parent\"><img src=\"https://colab.research.google.com/assets/colab-badge.svg\" alt=\"Open In Colab\"/></a>"
      ]
    },
    {
      "cell_type": "markdown",
      "source": [
        "# Import Library\n"
      ],
      "metadata": {
        "id": "GYQl5cAqNw1D"
      }
    },
    {
      "cell_type": "code",
      "source": [
        "import yfinance as yf"
      ],
      "metadata": {
        "id": "nDGo3aRnNz8t"
      },
      "execution_count": 27,
      "outputs": []
    },
    {
      "cell_type": "markdown",
      "source": [
        "#Define variables"
      ],
      "metadata": {
        "id": "ooCF-y-9N3sS"
      }
    },
    {
      "cell_type": "code",
      "source": [
        "# Apple Intrinsic value calculation\n",
        "appl = yf.Ticker(\"AAPL\")\n",
        "ourstandingshares = appl.info[\"sharesOutstanding\"] # Fetch Number of shares\n",
        "ourstandingshares"
      ],
      "metadata": {
        "colab": {
          "base_uri": "https://localhost:8080/"
        },
        "id": "Rv_aoShUN9PL",
        "outputId": "5d0cd052-e6e4-4202-aef9-1fb4931642ac"
      },
      "execution_count": 28,
      "outputs": [
        {
          "output_type": "execute_result",
          "data": {
            "text/plain": [
              "15022100480"
            ]
          },
          "metadata": {},
          "execution_count": 28
        }
      ]
    },
    {
      "cell_type": "code",
      "source": [
        "required_rate = 0.07\n",
        "perpetual_rate = 0.02\n",
        "cashFlowGrowthRate = 0.03"
      ],
      "metadata": {
        "id": "HDXCIkmZOzIh"
      },
      "execution_count": 29,
      "outputs": []
    },
    {
      "cell_type": "code",
      "source": [
        "years = [1,2,3,4]\n",
        "\n",
        "# Extract Free Cash Flow\n",
        "cash_flow = appl.cashflow\n",
        "fcf_historical = cash_flow.loc[\"Free Cash Flow\"]\n",
        "fcf = fcf_historical.tolist()\n",
        "\n",
        "# Get the first 4 elements and reverse them\n",
        "fcf = fcf[:4][::-1]\n",
        "\n",
        "fcf"
      ],
      "metadata": {
        "colab": {
          "base_uri": "https://localhost:8080/"
        },
        "id": "tFpeyGZbPA6J",
        "outputId": "fc150e1f-892b-4a2d-9f9c-db997dc7e8ae"
      },
      "execution_count": 30,
      "outputs": [
        {
          "output_type": "execute_result",
          "data": {
            "text/plain": [
              "[92953000000.0, 111443000000.0, 99584000000.0, 108807000000.0]"
            ]
          },
          "metadata": {},
          "execution_count": 30
        }
      ]
    },
    {
      "cell_type": "code",
      "source": [
        "futureFCF = []\n",
        "discountedFactor = []\n",
        "discountedFutureFCF = []"
      ],
      "metadata": {
        "id": "8sMRx8oUPDMe"
      },
      "execution_count": 31,
      "outputs": []
    },
    {
      "cell_type": "markdown",
      "source": [
        "# Claculate Apple Value"
      ],
      "metadata": {
        "id": "YBLNallicX-L"
      }
    },
    {
      "cell_type": "code",
      "source": [
        "# Calculate terminative value\n",
        "terminativeValue = fcf[-1] * (1+perpetual_rate) / (required_rate - perpetual_rate)\n",
        "terminativeValue"
      ],
      "metadata": {
        "colab": {
          "base_uri": "https://localhost:8080/"
        },
        "id": "LI_V-oNfccGm",
        "outputId": "68b4858c-3352-42d0-9ae5-44545b0f370a"
      },
      "execution_count": 32,
      "outputs": [
        {
          "output_type": "execute_result",
          "data": {
            "text/plain": [
              "2219662800000.0"
            ]
          },
          "metadata": {},
          "execution_count": 32
        }
      ]
    },
    {
      "cell_type": "code",
      "source": [
        "# Calculate discounted Factor\n",
        "for year in years:\n",
        "  cashflow = fcf[-1] * (1 + cashFlowGrowthRate) ** year\n",
        "  futureFCF.append(cashflow)\n",
        "  discountedFactor.append((1 + required_rate) ** year)"
      ],
      "metadata": {
        "id": "sm--hiBockIG"
      },
      "execution_count": 33,
      "outputs": []
    },
    {
      "cell_type": "code",
      "source": [
        "discountedFactor"
      ],
      "metadata": {
        "colab": {
          "base_uri": "https://localhost:8080/"
        },
        "id": "Ok8gD4DsfSPW",
        "outputId": "f476ffc5-103c-48ba-970f-bb03d3a90b34"
      },
      "execution_count": 34,
      "outputs": [
        {
          "output_type": "execute_result",
          "data": {
            "text/plain": [
              "[1.07, 1.1449, 1.225043, 1.3107960100000002]"
            ]
          },
          "metadata": {},
          "execution_count": 34
        }
      ]
    },
    {
      "cell_type": "code",
      "source": [
        "futureFCF"
      ],
      "metadata": {
        "colab": {
          "base_uri": "https://localhost:8080/"
        },
        "id": "qXO_ks05fa__",
        "outputId": "f4acb2e5-fdd1-488b-8edf-e401b24b9cb8"
      },
      "execution_count": 35,
      "outputs": [
        {
          "output_type": "execute_result",
          "data": {
            "text/plain": [
              "[112071210000.0, 115433346300.0, 118896346689.0, 122463237089.67001]"
            ]
          },
          "metadata": {},
          "execution_count": 35
        }
      ]
    },
    {
      "cell_type": "code",
      "source": [
        "for i in range(0, len(years)):\n",
        "  discountedFutureFCF.append(futureFCF[i] / discountedFactor[i])"
      ],
      "metadata": {
        "id": "UlSOC2o4fz61"
      },
      "execution_count": 36,
      "outputs": []
    },
    {
      "cell_type": "code",
      "source": [
        "discountedFutureFCF"
      ],
      "metadata": {
        "colab": {
          "base_uri": "https://localhost:8080/"
        },
        "id": "bBzyyBa8gGMf",
        "outputId": "a32f744b-39cf-478f-cbe6-b979c184d4cc"
      },
      "execution_count": 37,
      "outputs": [
        {
          "output_type": "execute_result",
          "data": {
            "text/plain": [
              "[104739448598.13083, 100823955192.59323, 97054835372.30937, 93426617227.55014]"
            ]
          },
          "metadata": {},
          "execution_count": 37
        }
      ]
    },
    {
      "cell_type": "code",
      "source": [
        "discountedTeminalValue = terminativeValue / (1 + required_rate) ** 4\n",
        "discountedFutureFCF.append(discountedTeminalValue)\n",
        "discountedFutureFCF"
      ],
      "metadata": {
        "colab": {
          "base_uri": "https://localhost:8080/"
        },
        "id": "ajv7PsvKgo5x",
        "outputId": "815cdd09-6ad4-4faa-82a8-64db151808e1"
      },
      "execution_count": 38,
      "outputs": [
        {
          "output_type": "execute_result",
          "data": {
            "text/plain": [
              "[104739448598.13083,\n",
              " 100823955192.59323,\n",
              " 97054835372.30937,\n",
              " 93426617227.55014,\n",
              " 1693370122480.0032]"
            ]
          },
          "metadata": {},
          "execution_count": 38
        }
      ]
    },
    {
      "cell_type": "code",
      "source": [
        "todaysValue = sum(discountedFutureFCF)\n",
        "fairvalue = todaysValue / ourstandingshares\n",
        "\n",
        "print(ourstandingshares)\n",
        "print(todaysValue)\n",
        "print(\"The Fair value of APPL is ${}\". format(round(fairvalue)))"
      ],
      "metadata": {
        "colab": {
          "base_uri": "https://localhost:8080/"
        },
        "id": "VQj4OeBjhDfI",
        "outputId": "28e350ca-01b6-416e-b510-2b2d49f1acb0"
      },
      "execution_count": 39,
      "outputs": [
        {
          "output_type": "stream",
          "name": "stdout",
          "text": [
            "15022100480\n",
            "2089414978870.587\n",
            "The Fair value of APPL is $139\n"
          ]
        }
      ]
    }
  ]
}